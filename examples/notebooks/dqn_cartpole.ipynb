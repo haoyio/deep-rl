{
 "cells": [
  {
   "cell_type": "code",
   "execution_count": 2,
   "metadata": {},
   "outputs": [],
   "source": [
    "import os\n",
    "import sys\n",
    "sys.path.append(os.path.abspath('../../'))"
   ]
  },
  {
   "cell_type": "code",
   "execution_count": 18,
   "metadata": {},
   "outputs": [],
   "source": [
    "from deeprl.core import Agent\n",
    "from deeprl.memory import Memory"
   ]
  },
  {
   "cell_type": "code",
   "execution_count": null,
   "metadata": {
    "collapsed": true
   },
   "outputs": [],
   "source": [
    "class DQNAgent(Agent):\n",
    "    def __init__(self, model, memory_limit=100000):\n",
    "        self.model = model\n",
    "        self.memory = Memory(memory_limit)\n",
    "    \n",
    "    def act(self, observation, is_train=False):\n",
    "        pass\n",
    "    \n",
    "    def update(self):\n",
    "        pass\n",
    "    \n",
    "    def save_weights(self, filepath, overwrite=False):\n",
    "        pass\n",
    "    \n",
    "    def load_weights(self, filepath):\n",
    "        pass"
   ]
  }
 ],
 "metadata": {
  "kernelspec": {
   "display_name": "Python 2",
   "language": "python",
   "name": "python2"
  },
  "language_info": {
   "codemirror_mode": {
    "name": "ipython",
    "version": 2
   },
   "file_extension": ".py",
   "mimetype": "text/x-python",
   "name": "python",
   "nbconvert_exporter": "python",
   "pygments_lexer": "ipython2",
   "version": "2.7.6"
  }
 },
 "nbformat": 4,
 "nbformat_minor": 2
}
